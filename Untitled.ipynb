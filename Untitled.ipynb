{
 "cells": [
  {
   "cell_type": "code",
   "execution_count": 2,
   "metadata": {},
   "outputs": [
    {
     "data": {
      "image/png": "[encoded data removed]",
      "text/plain": [
       "<matplotlib.figure.Figure at 0x7f7368d877d0>"
      ]
     },
     "metadata": {},
     "output_type": "display_data"
    }
   ],
   "source": [
    "from scipy import signal\n",
    "\n",
    "import matplotlib.pyplot as plot\n",
    "\n",
    "import numpy as np\n",
    "\n",
    " \n",
    "\n",
    "# Sampling rate 1000 hz / second\n",
    "a={4950,4950,550,1500,500,1500,500,500,550,1450,550,450,550,1450,550,450,550,1450,550,1450,600,1400,600,1450,550,1450,550,1450,550,1450,550,1450,550,1450,600,1400,600,1400,600,400,600,1400,600,400,600,1450,550,1450,550,450,550,450,600,1400,600,400,600,1400,600,450,550,450,550,1450,550,1450,600,1400,600,1400,600,1400,600,1400,600,1400,600,400,600,1400,600,1450,550,1450,550,1450,550,450,550,450,600,1400,550,1450,550,450,550,1450,600,1450,550,1450,550,1450,550,1450,550,1450,550,450,550,1450,550,450,550,450,550,1450,550,1500,550,450,550,450,550,1450,550,450,550,1450,550,1450,550,1450,550,1450,550,1450,550,1500,550,1450,550,1450,550,1450,550,450,550,1450,550,1450,550,1450,550,1450,550,1450,550,1450,550,1500,550,1450,550,1450,550,450,550,1450,550,450,550,1450,550,450,550,1450,550,1500,550,1450,550,1450,550,1450,550,1450,550,1450,550,450,600,1400,550,1450,550,1450,550,450,600,1400,600,1450,550,1450,550,450,550,450,4950,\n",
    "};\n",
    "t = np.linspace(0, 1, 1000, endpoint=True)\n",
    "\n",
    " \n",
    "\n",
    "# Plot the square wave signal\n",
    "\n",
    "plot.plot(t, signal.square(2 * np.pi * 5 * t))\n",
    "\n",
    " \n",
    "\n",
    "# Give a title for the square wave plot\n",
    "\n",
    "plot.title('Sqaure wave - 5 Hz sampled at 1000 Hz /second')\n",
    "\n",
    " \n",
    "\n",
    "# Give x axis label for the square wave plot\n",
    "\n",
    "plot.xlabel('Time')\n",
    "\n",
    " \n",
    "\n",
    "# Give y axis label for the square wave plot\n",
    "\n",
    "plot.ylabel('Amplitude')\n",
    "\n",
    " \n",
    "\n",
    "plot.grid(True, which='both')\n",
    "\n",
    " \n",
    "\n",
    "# Provide x axis and line color\n",
    "\n",
    "plot.axhline(y=0, color='k')\n",
    "\n",
    " \n",
    "\n",
    "# Set the max and min values for y axis\n",
    "\n",
    "plot.ylim(-2, 2)\n",
    "\n",
    " \n",
    "\n",
    "# Display the square wave drawn\n",
    "\n",
    "plot.show()"
   ]
  },
  {
   "cell_type": "code",
   "execution_count": 3,
   "metadata": {},
   "outputs": [],
   "source": [
    "a=[1,2,3,4\n",
    "  ]"
   ]
  },
  {
   "cell_type": "code",
   "execution_count": 4,
   "metadata": {},
   "outputs": [
    {
     "data": {
      "text/plain": [
       "[1, 2, 3, 4]"
      ]
     },
     "execution_count": 4,
     "metadata": {},
     "output_type": "execute_result"
    }
   ],
   "source": [
    "a"
   ]
  },
  {
   "cell_type": "code",
   "execution_count": 5,
   "metadata": {},
   "outputs": [],
   "source": [
    "a=np.array(a)"
   ]
  },
  {
   "cell_type": "code",
   "execution_count": 6,
   "metadata": {},
   "outputs": [
    {
     "data": {
      "text/plain": [
       "array([1, 2, 3, 4])"
      ]
     },
     "execution_count": 6,
     "metadata": {},
     "output_type": "execute_result"
    }
   ],
   "source": [
    "a"
   ]
  },
  {
   "cell_type": "code",
   "execution_count": null,
   "metadata": {},
   "outputs": [],
   "source": []
  }
 ],
 "metadata": {
  "kernelspec": {
   "display_name": "Python 2",
   "language": "python",
   "name": "python2"
  },
  "language_info": {
   "codemirror_mode": {
    "name": "ipython",
    "version": 2
   },
   "file_extension": ".py",
   "mimetype": "text/x-python",
   "name": "python",
   "nbconvert_exporter": "python",
   "pygments_lexer": "ipython2",
   "version": "2.7.14"
  }
 },
 "nbformat": 4,
 "nbformat_minor": 2
}
